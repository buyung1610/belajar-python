{
  "nbformat": 4,
  "nbformat_minor": 0,
  "metadata": {
    "colab": {
      "provenance": [],
      "authorship_tag": "ABX9TyNgJwka0palMF2J+XSyO2D1",
      "include_colab_link": true
    },
    "kernelspec": {
      "name": "python3",
      "display_name": "Python 3"
    },
    "language_info": {
      "name": "python"
    }
  },
  "cells": [
    {
      "cell_type": "markdown",
      "metadata": {
        "id": "view-in-github",
        "colab_type": "text"
      },
      "source": [
        "<a href=\"https://colab.research.google.com/github/buyung1610/belajar-python/blob/main/belajar_python.ipynb\" target=\"_parent\"><img src=\"https://colab.research.google.com/assets/colab-badge.svg\" alt=\"Open In Colab\"/></a>"
      ]
    },
    {
      "cell_type": "code",
      "execution_count": null,
      "metadata": {
        "id": "6Eqpo7sOA_xB"
      },
      "outputs": [],
      "source": [
        "print(\"Day 1 - Python Print Function\")\n",
        "print(\"The function is declared like this:\")\n",
        "print(\"print('what to print')\")"
      ]
    },
    {
      "cell_type": "code",
      "source": [
        "#Fix the code below 👇\n",
        "\n",
        "print(\"Day 1 - String Manipulation\")\n",
        "print('String Concatenation is done with the \"+\" sign.')\n",
        "print('e.g. print(\"Hello \" + \"world\")')\n",
        "print(\"New lines can be created with a backslash and n.\")"
      ],
      "metadata": {
        "id": "8T1M2XVwBqrD"
      },
      "execution_count": null,
      "outputs": []
    },
    {
      "cell_type": "code",
      "source": [
        "print(len(input(\"What is your name? \")))"
      ],
      "metadata": {
        "id": "FORokhZpEbWz"
      },
      "execution_count": null,
      "outputs": []
    },
    {
      "cell_type": "code",
      "source": [
        "# 🚨 Don't change the code below 👇\n",
        "a = input(\"a: \")\n",
        "b = input(\"b: \")\n",
        "# 🚨 Don't change the code above 👆\n",
        "\n",
        "####################################\n",
        "#Write your code below this line 👇\n",
        "c = a\n",
        "a = b\n",
        "b = c\n",
        "\n",
        "#Write your code above this line 👆\n",
        "####################################\n",
        "\n",
        "# 🚨 Don't change the code below 👇\n",
        "print(\"a: \" + a)\n",
        "print(\"b: \" + b)f"
      ],
      "metadata": {
        "id": "_gIJgqs_Erlq"
      },
      "execution_count": null,
      "outputs": []
    },
    {
      "cell_type": "code",
      "source": [
        "print (\"Welcome to the band name generator.\")\n",
        "a = input(\"which city did you grow up in?\\n\")\n",
        "b = input(\"What is the name of a pet?\\n\")\n",
        "print (\"Your band name could be \" + a + \" \" + b)"
      ],
      "metadata": {
        "id": "_xEkyZ5vE2zN"
      },
      "execution_count": null,
      "outputs": []
    }
  ]
}