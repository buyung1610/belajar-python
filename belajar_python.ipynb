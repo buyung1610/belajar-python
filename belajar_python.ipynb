{
  "nbformat": 4,
  "nbformat_minor": 0,
  "metadata": {
    "colab": {
      "provenance": [],
      "authorship_tag": "ABX9TyNTXNBkLuw1Aqfcow0s2seX",
      "include_colab_link": true
    },
    "kernelspec": {
      "name": "python3",
      "display_name": "Python 3"
    },
    "language_info": {
      "name": "python"
    }
  },
  "cells": [
    {
      "cell_type": "markdown",
      "metadata": {
        "id": "view-in-github",
        "colab_type": "text"
      },
      "source": [
        "<a href=\"https://colab.research.google.com/github/buyung1610/belajar-python/blob/main/belajar_python.ipynb\" target=\"_parent\"><img src=\"https://colab.research.google.com/assets/colab-badge.svg\" alt=\"Open In Colab\"/></a>"
      ]
    },
    {
      "cell_type": "code",
      "execution_count": null,
      "metadata": {
        "id": "6Eqpo7sOA_xB"
      },
      "outputs": [],
      "source": [
        "print(\"Day 1 - Python Print Function\")\n",
        "print(\"The function is declared like this:\")\n",
        "print(\"print('what to print')\")"
      ]
    },
    {
      "cell_type": "code",
      "source": [
        "#Fix the code below 👇\n",
        "\n",
        "print(\"Day 1 - String Manipulation\")\n",
        "print('String Concatenation is done with the \"+\" sign.')\n",
        "print('e.g. print(\"Hello \" + \"world\")')\n",
        "print(\"New lines can be created with a backslash and n.\")"
      ],
      "metadata": {
        "id": "8T1M2XVwBqrD"
      },
      "execution_count": null,
      "outputs": []
    },
    {
      "cell_type": "code",
      "source": [
        "print(len(input(\"What is your name? \")))"
      ],
      "metadata": {
        "id": "FORokhZpEbWz"
      },
      "execution_count": null,
      "outputs": []
    },
    {
      "cell_type": "code",
      "source": [
        "# 🚨 Don't change the code below 👇\n",
        "a = input(\"a: \")\n",
        "b = input(\"b: \")\n",
        "# 🚨 Don't change the code above 👆\n",
        "\n",
        "####################################\n",
        "#Write your code below this line 👇\n",
        "c = a\n",
        "a = b\n",
        "b = c\n",
        "\n",
        "#Write your code above this line 👆\n",
        "####################################\n",
        "\n",
        "# 🚨 Don't change the code below 👇\n",
        "print(\"a: \" + a)\n",
        "print(\"b: \" + b)f"
      ],
      "metadata": {
        "id": "_gIJgqs_Erlq"
      },
      "execution_count": null,
      "outputs": []
    },
    {
      "cell_type": "code",
      "source": [
        "print (\"Welcome to the band name generator.\")\n",
        "a = input(\"which city did you grow up in?\\n\")\n",
        "b = input(\"What is the name of a pet?\\n\")\n",
        "print (\"Your band name could be \" + a + \" \" + b)"
      ],
      "metadata": {
        "id": "_xEkyZ5vE2zN"
      },
      "execution_count": null,
      "outputs": []
    },
    {
      "cell_type": "code",
      "source": [
        "# 🚨 Don't change the code below 👇\n",
        "two_digit_number = input(\"Type a two digit number: \")\n",
        "# 🚨 Don't change the code above 👆\n",
        "\n",
        "####################################\n",
        "#Write your code below this line 👇\n",
        "a = int(two_digit_number[0])\n",
        "b = int(two_digit_number[1])\n",
        "c = a + b\n",
        "print(str(a)+\" + \"+str(b)+\" = \"+str(c))\n",
        "print(c)"
      ],
      "metadata": {
        "colab": {
          "base_uri": "https://localhost:8080/"
        },
        "id": "371ZCFzXLiaf",
        "outputId": "b2498322-1cfe-4851-fa62-75dea2c4dfd2"
      },
      "execution_count": 2,
      "outputs": [
        {
          "output_type": "stream",
          "name": "stdout",
          "text": [
            "Type a two digit number: 45\n",
            "4 + 5 = 9\n",
            "9\n"
          ]
        }
      ]
    },
    {
      "cell_type": "code",
      "source": [
        "# 🚨 Don't change the code below 👇\n",
        "weight = input(\"enter your weight in kg: \")\n",
        "height = input(\"enter your height in m: \")\n",
        "# 🚨 Don't change the code above 👆\n",
        "\n",
        "#Write your code below this line 👇\n",
        "weight_int = int(weight)\n",
        "heighh_float = float(height)\n",
        "\n",
        "bmi = weight_int / heighh_float ** 2\n",
        "\n",
        "bmi_float = float(bmi)\n",
        "bmi_int = int(bmi)\n",
        "\n",
        "print(str(weight)+\" ÷ (\"+str(height)+\" x \"+str(height)+\") = \"+str(bmi_float))\n",
        "\n",
        "print(bmi_int)"
      ],
      "metadata": {
        "id": "0EAH0B7qRNs_"
      },
      "execution_count": null,
      "outputs": []
    }
  ]
}